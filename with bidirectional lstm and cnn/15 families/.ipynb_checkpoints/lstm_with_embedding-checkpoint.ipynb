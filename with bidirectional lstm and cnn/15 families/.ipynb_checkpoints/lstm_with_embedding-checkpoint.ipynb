{
 "cells": [
  {
   "cell_type": "code",
   "execution_count": 1,
   "metadata": {},
   "outputs": [],
   "source": [
    "import os\n",
    "import data_loader\n",
    "from numpy import trapz\n",
    "import matplotlib.pyplot as plt\n",
    "import numpy as np\n",
    "\n",
    "import tensorflow as tf\n",
    "from tensorflow.keras.models import Model, Sequential\n",
    "from tensorflow.keras.layers import Input, Dense, LSTM, Dropout, Embedding\n",
    "from tensorflow.keras.optimizers import Adam\n",
    "from tensorflow.keras.preprocessing.sequence import pad_sequences\n",
    "from tensorflow.keras.utils import to_categorical\n",
    "from sklearn.model_selection import train_test_split\n",
    "\n",
    "# from tensorflow.compat.v1.keras.backend import set_session\n",
    "# config = tf.compat.v1.ConfigProto()\n",
    "# config.gpu_options.allow_growth = True\n",
    "# sess = tf.compat.v1.Session(config=config)\n",
    "# set_session(sess)\n",
    "\n",
    "# physical_devices = tf.config.list_physical_devices('GPU')\n",
    "# tf.config.experimental.set_memory_growth(physical_devices[0], enable=True)"
   ]
  },
  {
   "cell_type": "markdown",
   "metadata": {},
   "source": [
    "### Tensorflow Version"
   ]
  },
  {
   "cell_type": "code",
   "execution_count": 2,
   "metadata": {},
   "outputs": [
    {
     "name": "stdout",
     "output_type": "stream",
     "text": [
      "2.3.1\n"
     ]
    }
   ],
   "source": [
    "print(tf.__version__)"
   ]
  },
  {
   "cell_type": "markdown",
   "metadata": {},
   "source": [
    "### Global Variables"
   ]
  },
  {
   "cell_type": "code",
   "execution_count": 3,
   "metadata": {},
   "outputs": [],
   "source": [
    "all_files_dir = '../data-d/'\n",
    "saved_model_path = 'saved_model/'\n",
    "opcode_to_int_path = \"opcodeToInt.txt\"\n",
    "keep_amt = 30\n",
    "max_opcode_length = 2000\n",
    "embed_vector_length = 128\n",
    "num_lstm_unit = 64\n",
    "dropout_amt = 0.2\n",
    "recurrent_dropout = 0.3\n",
    "batch_size = 64\n",
    "num_epochs = 20\n",
    "test_size= 0.15       # reserve for testing\n",
    "\n",
    "shutdown = False"
   ]
  },
  {
   "cell_type": "markdown",
   "metadata": {},
   "source": [
    "### Load the Data"
   ]
  },
  {
   "cell_type": "code",
   "execution_count": 4,
   "metadata": {
    "scrolled": true
   },
   "outputs": [
    {
     "name": "stdout",
     "output_type": "stream",
     "text": [
      "train_set shape: (5568, 2000)\n",
      "test_set shape: (960, 2000)\n",
      "train_labels shape: (5568, 1)\n",
      "test_labels shape: (960, 1)\n"
     ]
    }
   ],
   "source": [
    "hotbar_training, renos_training, vundo_training, winwebsec_training, zbot_training = data_loader.getTrainData(all_files_dir, \n",
    "                                        keep_amt, \n",
    "                                        max_opcode_length, \n",
    "                                        opcode_to_int_path)\n",
    "\n",
    "# Pad data\n",
    "hotbar_training = pad_sequences(hotbar_training, maxlen=max_opcode_length)\n",
    "renos_training = pad_sequences(renos_training, maxlen=max_opcode_length)\n",
    "vundo_training = pad_sequences(vundo_training, maxlen=max_opcode_length)\n",
    "winwebsec_training = pad_sequences(winwebsec_training, maxlen=max_opcode_length)\n",
    "zbot_training = pad_sequences(zbot_training, maxlen=max_opcode_length)\n",
    "\n",
    "train_set = np.concatenate((hotbar_training, renos_training, vundo_training, winwebsec_training, zbot_training), axis=0)\n",
    "\n",
    "'''\n",
    "    Create labels:\n",
    "        0 - hotbar\n",
    "        1 - renos\n",
    "        2 - vundo\n",
    "        3 - winwebsec\n",
    "        4 - zbot\n",
    "'''\n",
    "hotbar_train_labels = np.zeros(shape=(len(hotbar_training), 1))\n",
    "renos_train_labels = np.ones(shape=(len(renos_training), 1))\n",
    "vundo_train_labels = np.full_like(renos_train_labels, 2)\n",
    "winwebsec_train_labels = np.full_like(renos_train_labels, 3)\n",
    "zbot_train_labels = np.full_like(renos_train_labels, 4)\n",
    "\n",
    "train_labels = np.concatenate((hotbar_train_labels, \n",
    "                               renos_train_labels, \n",
    "                               vundo_train_labels, \n",
    "                               winwebsec_train_labels,\n",
    "                               zbot_train_labels), axis=0)\n",
    "\n",
    "# Reshape matrices\n",
    "# train_set = train_set.reshape(len(train_set), max_opcode_length, 1)\n",
    "# train_labels = train_labels.reshape(len(train_set), 1, 1)\n",
    "\n",
    "# Split into training and testing data\n",
    "train_set, test_set, train_labels, test_labels = train_test_split(train_set, train_labels, test_size=test_size)\n",
    "\n",
    "# make divisible by 64\n",
    "train_set = train_set[:5568]\n",
    "train_labels = train_labels[:5568]\n",
    "test_set = test_set[:960]\n",
    "test_labels = test_labels[:960]\n",
    "\n",
    "print(\"train_set shape: {}\".format(train_set.shape))\n",
    "print(\"test_set shape: {}\".format(test_set.shape))\n",
    "print(\"train_labels shape: {}\".format(train_labels.shape))\n",
    "print(\"test_labels shape: {}\".format(test_labels.shape))"
   ]
  },
  {
   "cell_type": "markdown",
   "metadata": {},
   "source": [
    "### Make the Model"
   ]
  },
  {
   "cell_type": "code",
   "execution_count": 8,
   "metadata": {},
   "outputs": [],
   "source": [
    "def create_model():\n",
    "    model = Sequential()\n",
    "    model.add(Input(batch_shape=(batch_size, max_opcode_length), name=\"input\"))\n",
    "    model.add(Embedding(input_dim=keep_amt+1,\n",
    "                                        output_dim=embed_vector_length,\n",
    "                                        input_length=max_opcode_length, name=\"embedding\"))\n",
    "    # LSTM 1\n",
    "    model.add(Dropout(dropout_amt, name=\"dropout_1\"))\n",
    "    model.add(LSTM(num_lstm_unit, \n",
    "                   input_shape=(None, max_opcode_length),\n",
    "                   return_sequences=True,\n",
    "                   name=\"lstm1\"))\n",
    "    # LSTM 2\n",
    "    model.add(Dropout(dropout_amt, name=\"dropout_2\"))\n",
    "    model.add(LSTM(num_lstm_unit*3, \n",
    "                   return_sequences=True,\n",
    "                   name=\"lstm2\"))\n",
    "    # LSTM 3\n",
    "    model.add(Dropout(dropout_amt, name=\"dropout_3\"))\n",
    "    model.add(LSTM(num_lstm_unit*2, \n",
    "                                   name=\"lstm3\"))\n",
    "    model.add(Dense(5, activation='softmax', name=\"dense\"))\n",
    "    optimizer = Adam()\n",
    "    model.compile(loss='sparse_categorical_crossentropy', optimizer=optimizer, metrics=['accuracy'])\n",
    "\n",
    "    model.summary()\n",
    "    \n",
    "    return model"
   ]
  },
  {
   "cell_type": "code",
   "execution_count": 9,
   "metadata": {
    "scrolled": true
   },
   "outputs": [
    {
     "name": "stdout",
     "output_type": "stream",
     "text": [
      "Model: \"sequential_1\"\n",
      "_________________________________________________________________\n",
      "Layer (type)                 Output Shape              Param #   \n",
      "=================================================================\n",
      "embedding (Embedding)        (64, 2000, 128)           3968      \n",
      "_________________________________________________________________\n",
      "dropout_1 (Dropout)          (64, 2000, 128)           0         \n",
      "_________________________________________________________________\n",
      "lstm1 (LSTM)                 (64, 2000, 64)            49408     \n",
      "_________________________________________________________________\n",
      "dropout_2 (Dropout)          (64, 2000, 64)            0         \n",
      "_________________________________________________________________\n",
      "lstm2 (LSTM)                 (64, 2000, 192)           197376    \n",
      "_________________________________________________________________\n",
      "dropout_3 (Dropout)          (64, 2000, 192)           0         \n",
      "_________________________________________________________________\n",
      "lstm3 (LSTM)                 (64, 128)                 164352    \n",
      "_________________________________________________________________\n",
      "dense (Dense)                (64, 5)                   645       \n",
      "=================================================================\n",
      "Total params: 415,749\n",
      "Trainable params: 415,749\n",
      "Non-trainable params: 0\n",
      "_________________________________________________________________\n"
     ]
    }
   ],
   "source": [
    "model_train = create_model()\n",
    "\n",
    "callback = tf.keras.callbacks.EarlyStopping(monitor='loss', patience=2)"
   ]
  },
  {
   "cell_type": "code",
   "execution_count": 10,
   "metadata": {
    "scrolled": true
   },
   "outputs": [
    {
     "name": "stdout",
     "output_type": "stream",
     "text": [
      "Epoch 1/20\n",
      "87/87 [==============================] - 23s 268ms/step - loss: 1.2588 - accuracy: 0.4969\n",
      "Epoch 2/20\n",
      "87/87 [==============================] - 23s 265ms/step - loss: 0.9987 - accuracy: 0.6221\n",
      "Epoch 3/20\n",
      "87/87 [==============================] - 24s 272ms/step - loss: 0.9092 - accuracy: 0.6677\n",
      "Epoch 4/20\n",
      "87/87 [==============================] - 24s 271ms/step - loss: 0.7849 - accuracy: 0.7073\n",
      "Epoch 5/20\n",
      "87/87 [==============================] - 24s 271ms/step - loss: 0.7223 - accuracy: 0.7412\n",
      "Epoch 6/20\n",
      "87/87 [==============================] - 23s 269ms/step - loss: 0.6416 - accuracy: 0.7737\n",
      "Epoch 7/20\n",
      "87/87 [==============================] - 23s 269ms/step - loss: 0.6400 - accuracy: 0.7732\n",
      "Epoch 8/20\n",
      "87/87 [==============================] - 23s 267ms/step - loss: 0.6345 - accuracy: 0.7787\n",
      "Epoch 9/20\n",
      "87/87 [==============================] - 23s 264ms/step - loss: 0.6186 - accuracy: 0.7874\n",
      "Epoch 10/20\n",
      "87/87 [==============================] - 23s 266ms/step - loss: 0.5606 - accuracy: 0.8143\n",
      "Epoch 11/20\n",
      "87/87 [==============================] - 23s 269ms/step - loss: 0.7256 - accuracy: 0.7480\n",
      "Epoch 12/20\n",
      "87/87 [==============================] - 23s 264ms/step - loss: 0.6488 - accuracy: 0.7769\n",
      "Epoch 13/20\n",
      "87/87 [==============================] - 24s 274ms/step - loss: 0.5095 - accuracy: 0.8308\n",
      "Epoch 14/20\n",
      "87/87 [==============================] - 23s 269ms/step - loss: 0.5769 - accuracy: 0.8084\n",
      "Epoch 15/20\n",
      "87/87 [==============================] - 23s 264ms/step - loss: 0.8217 - accuracy: 0.6870\n",
      "Epoch 16/20\n",
      "87/87 [==============================] - 23s 264ms/step - loss: 0.6907 - accuracy: 0.7640\n",
      "Epoch 17/20\n",
      "87/87 [==============================] - 23s 267ms/step - loss: 1.1207 - accuracy: 0.5673\n",
      "Epoch 18/20\n",
      "87/87 [==============================] - 23s 267ms/step - loss: 0.8450 - accuracy: 0.6918\n",
      "Epoch 19/20\n",
      "87/87 [==============================] - 24s 270ms/step - loss: 0.8571 - accuracy: 0.6879\n",
      "Epoch 20/20\n",
      "87/87 [==============================] - 23s 269ms/step - loss: 1.1760 - accuracy: 0.5492\n"
     ]
    }
   ],
   "source": [
    "history = model_train.fit(x=train_set,\n",
    "          y=train_labels,\n",
    "          batch_size=batch_size,\n",
    "          epochs=num_epochs,)\n",
    "\n",
    "model_train.save_weights(saved_model_path) "
   ]
  },
  {
   "cell_type": "markdown",
   "metadata": {},
   "source": [
    "### Use History to plot and accuracy throughout training"
   ]
  },
  {
   "cell_type": "code",
   "execution_count": null,
   "metadata": {},
   "outputs": [],
   "source": [
    "history.history"
   ]
  },
  {
   "cell_type": "markdown",
   "metadata": {},
   "source": [
    "### Evaluate Model"
   ]
  },
  {
   "cell_type": "code",
   "execution_count": 11,
   "metadata": {},
   "outputs": [
    {
     "name": "stdout",
     "output_type": "stream",
     "text": [
      "Model: \"sequential_2\"\n",
      "_________________________________________________________________\n",
      "Layer (type)                 Output Shape              Param #   \n",
      "=================================================================\n",
      "embedding (Embedding)        (64, 2000, 128)           3968      \n",
      "_________________________________________________________________\n",
      "dropout_1 (Dropout)          (64, 2000, 128)           0         \n",
      "_________________________________________________________________\n",
      "lstm1 (LSTM)                 (64, 2000, 64)            49408     \n",
      "_________________________________________________________________\n",
      "dropout_2 (Dropout)          (64, 2000, 64)            0         \n",
      "_________________________________________________________________\n",
      "lstm2 (LSTM)                 (64, 2000, 192)           197376    \n",
      "_________________________________________________________________\n",
      "dropout_3 (Dropout)          (64, 2000, 192)           0         \n",
      "_________________________________________________________________\n",
      "lstm3 (LSTM)                 (64, 128)                 164352    \n",
      "_________________________________________________________________\n",
      "dense (Dense)                (64, 5)                   645       \n",
      "=================================================================\n",
      "Total params: 415,749\n",
      "Trainable params: 415,749\n",
      "Non-trainable params: 0\n",
      "_________________________________________________________________\n",
      "WARNING:tensorflow:Model was constructed with shape (64, 2000) for input Tensor(\"input_2:0\", shape=(64, 2000), dtype=float32), but it was called on an input with incompatible shape (32, 2000).\n",
      "WARNING:tensorflow:Model was constructed with shape (64, 2000) for input Tensor(\"input_2:0\", shape=(64, 2000), dtype=float32), but it was called on an input with incompatible shape (32, 2000).\n",
      "Accuracy: 73.02%\n"
     ]
    }
   ],
   "source": [
    "model_evaluate = create_model()\n",
    "model_evaluate.set_weights(model_train.get_weights())\n",
    "\n",
    "scores = model_evaluate.evaluate(test_set, test_labels, verbose=0, callbacks=[callback])\n",
    "accuracy = scores[1]*100\n",
    "print(\"Accuracy: %0.2f%%\" % (scores[1]*100))"
   ]
  },
  {
   "cell_type": "markdown",
   "metadata": {},
   "source": [
    "### Load Model From Save and Evaluate"
   ]
  },
  {
   "cell_type": "code",
   "execution_count": null,
   "metadata": {},
   "outputs": [],
   "source": [
    "model = create_model()\n",
    "model.load_weights(saved_model_path)\n",
    "\n"
   ]
  },
  {
   "cell_type": "code",
   "execution_count": null,
   "metadata": {},
   "outputs": [],
   "source": [
    "scores = model.evaluate(test_set, test_labels, verbose=0)\n",
    "accuracy = scores[1]*100\n",
    "print(\"Accuracy: %0.2f%%\" % (scores[1]*100))"
   ]
  },
  {
   "cell_type": "code",
   "execution_count": null,
   "metadata": {},
   "outputs": [],
   "source": []
  },
  {
   "cell_type": "markdown",
   "metadata": {},
   "source": [
    "## Make ROC Curve"
   ]
  },
  {
   "cell_type": "markdown",
   "metadata": {},
   "source": [
    "### Make scatter plot"
   ]
  },
  {
   "cell_type": "code",
   "execution_count": null,
   "metadata": {},
   "outputs": [],
   "source": [
    "# separate winwebsec and zbot test data\n",
    "winwebsec_test_data = []\n",
    "zbot_test_data = []\n",
    "\n",
    "for i in range(len(test_labels)):\n",
    "    if test_labels[i] == 0:\n",
    "        winwebsec_test_data.append(test_set[i])\n",
    "    else:\n",
    "        zbot_test_data.append(test_set[i])\n",
    "        \n",
    "winwebsec_test_data = np.asarray(winwebsec_test_data[:192])\n",
    "zbot_test_data = np.asarray(zbot_test_data[:128])"
   ]
  },
  {
   "cell_type": "code",
   "execution_count": null,
   "metadata": {},
   "outputs": [],
   "source": [
    "print(winwebsec_test_data.shape)\n",
    "print(zbot_test_data.shape)\n",
    "\n",
    "\n",
    "winwebsecY = model.predict(winwebsec_test_data)\n",
    "winwebsecX = [i+1 for i in range(len(winwebsec_test_data))]\n",
    "\n",
    "zbotY = model.predict(zbot_test_data)\n",
    "zbotX = [i+1 for i in range(len(zbot_test_data))]"
   ]
  },
  {
   "cell_type": "code",
   "execution_count": null,
   "metadata": {},
   "outputs": [],
   "source": [
    "plt.figure(100)\n",
    "f = plt.scatter(winwebsecX, winwebsecY, marker='o',\n",
    "                c='darkblue', s=30, label=\"winwebsec\")\n",
    "plt.scatter(zbotX, zbotY, marker='o', c='red', s=30, label=\"zbot\")\n",
    "plt.title(\"Winwebsec vs. Zbot LSTM Prediction Scatter Plot\",\n",
    "          fontsize=18, wrap=True)\n",
    "f.axes.get_xaxis().set_visible(False)\n",
    "plt.ylabel(\"Prediction\", fontsize=15)\n",
    "plt.legend(bbox_to_anchor=(1, 1), loc='upper left', fontsize=12)"
   ]
  },
  {
   "cell_type": "markdown",
   "metadata": {},
   "source": [
    "### Make ROC Curve"
   ]
  },
  {
   "cell_type": "code",
   "execution_count": null,
   "metadata": {},
   "outputs": [],
   "source": [
    "def sortByFirstItem(item):\n",
    "    return item[0]"
   ]
  },
  {
   "cell_type": "code",
   "execution_count": null,
   "metadata": {},
   "outputs": [],
   "source": [
    "winwebsecROC = [(data, \"winwebsec\") for data in winwebsecY]\n",
    "zbotROC = [(data, \"zbot\") for data in zbotY]\n",
    "\n",
    "zbotROC.sort(key=sortByFirstItem)\n",
    "winwebsecROC.sort(key=sortByFirstItem)\n",
    "\n",
    "dataROC = zbotROC + winwebsecROC\n",
    "dataROC.sort(key=sortByFirstItem, reverse=True)"
   ]
  },
  {
   "cell_type": "code",
   "execution_count": null,
   "metadata": {},
   "outputs": [],
   "source": [
    "def calculate_TPR_FPR(thresholdLine, dataROC):\n",
    "    TP = 0\n",
    "    FN = 0\n",
    "    TN = 0\n",
    "    FP = 0\n",
    "\n",
    "    for data in dataROC:\n",
    "        yVal = data[0]\n",
    "        family = data[1]\n",
    "\n",
    "        if family == \"winwebsec\":\n",
    "            if yVal < thresholdLine:\n",
    "                TP += 1\n",
    "            else:\n",
    "                FN += 1\n",
    "        elif family == \"zbot\":\n",
    "            if yVal > thresholdLine:\n",
    "                TN += 1\n",
    "            else:\n",
    "                FP += 1\n",
    "    TPR = TP/(TP+FN)\n",
    "    FPR = 1 - (TN/(TN+FP))\n",
    "\n",
    "    return TPR, FPR"
   ]
  },
  {
   "cell_type": "code",
   "execution_count": null,
   "metadata": {},
   "outputs": [],
   "source": [
    "def calculateAUC(rocData):\n",
    "    sum = 0\n",
    "\n",
    "    # initialization\n",
    "    prevX = -1\n",
    "    prevY = -1\n",
    "\n",
    "    for points in rocData:\n",
    "        curX = points[0]\n",
    "        curY = points[1]\n",
    "\n",
    "        # Skip for first point\n",
    "        if prevX != -1 and prevY != -1:\n",
    "            # check if rectangle\n",
    "            if prevY == curY:\n",
    "                sum += abs(curX - prevX) * prevY\n",
    "            # check if trapezoid\n",
    "            else:\n",
    "                sum += (curY + prevY) * abs(curX - prevX) * 0.5\n",
    "\n",
    "        prevX = curX\n",
    "        prevY = curY\n",
    "\n",
    "    return sum"
   ]
  },
  {
   "cell_type": "code",
   "execution_count": null,
   "metadata": {},
   "outputs": [],
   "source": [
    "rocX = list()  # used to plot\n",
    "rocY = list()  # used to plot\n",
    "rocData = list()    # used to calculate AUC\n",
    "\n",
    "for entry in dataROC:\n",
    "    thresholdLine = entry[0]\n",
    "    TPR, FPR = calculate_TPR_FPR(thresholdLine, dataROC)\n",
    "\n",
    "    rocX.append(FPR)\n",
    "    rocY.append(TPR)\n",
    "    rocData.append([FPR, TPR])\n",
    "\n",
    "rocData.sort(key=lambda item: (item[0], item[1]), reverse=True)\n",
    "\n",
    "AUC = round(calculateAUC(rocData), 3)"
   ]
  },
  {
   "cell_type": "code",
   "execution_count": null,
   "metadata": {},
   "outputs": [],
   "source": [
    "props = dict(boxstyle='round', facecolor='wheat', alpha=0.5)\n",
    "\n",
    "plt.figure(200)\n",
    "plt.plot(rocX, rocY, marker=\".\", markersize=8)\n",
    "plt.title(\"Winwebsec vs. Zbot LSTM Log Probability ROC\", fontsize=18)\n",
    "plt.xlabel(\"FPR\", fontsize=15)\n",
    "plt.ylabel(\"TPR\", fontsize=15)\n",
    "plt.grid()\n",
    "plt.text(x=0.75, y=0, s=\"AUC: {0}\".format(AUC), fontsize=14, bbox=props)\n",
    "\n",
    "# show plots\n",
    "plt.show()"
   ]
  },
  {
   "cell_type": "code",
   "execution_count": null,
   "metadata": {},
   "outputs": [],
   "source": [
    "if shutdown:\n",
    "    os.system('shutdown -s')"
   ]
  }
 ],
 "metadata": {
  "kernelspec": {
   "display_name": "Python 3",
   "language": "python",
   "name": "python3"
  },
  "language_info": {
   "codemirror_mode": {
    "name": "ipython",
    "version": 3
   },
   "file_extension": ".py",
   "mimetype": "text/x-python",
   "name": "python",
   "nbconvert_exporter": "python",
   "pygments_lexer": "ipython3",
   "version": "3.8.3"
  }
 },
 "nbformat": 4,
 "nbformat_minor": 4
}
